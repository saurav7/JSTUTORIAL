{
 "cells": [
  {
   "cell_type": "markdown",
   "metadata": {},
   "source": [
    "## JavaScript Tutorial"
   ]
  },
  {
   "cell_type": "markdown",
   "metadata": {},
   "source": [
    "### Variables In JavaScript\n",
    "A variable is a value assigned to an identifier. A variable must be declared before you can use it. We have 3 main ways to declare variables.\n",
    "1. Var\n",
    "2. Const\n",
    "3. Let"
   ]
  },
  {
   "cell_type": "markdown",
   "metadata": {},
   "source": [
    "#### Var\n",
    "We can use var keyword to declare a variable. Variables defined with var move to the top when the code is executed."
   ]
  },
  {
   "cell_type": "code",
   "execution_count": 1,
   "metadata": {},
   "outputs": [],
   "source": [
    "var name;"
   ]
  },
  {
   "cell_type": "markdown",
   "metadata": {},
   "source": [
    "#### Const\n",
    "Const defines a constant reference to a value which means we cannot reassign a new value to it. Const variables must be initialized at the declaration time."
   ]
  },
  {
   "cell_type": "code",
   "execution_count": 2,
   "metadata": {},
   "outputs": [],
   "source": [
    "const a = 0\n",
    "// if we try to change value by doing a = 1 after const value is initialized we'll get an error\n"
   ]
  },
  {
   "cell_type": "markdown",
   "metadata": {},
   "source": [
    "#### Let\n",
    "Let is similar to const , however, let variable can be reassigned but cannot be re-declared."
   ]
  },
  {
   "cell_type": "code",
   "execution_count": 4,
   "metadata": {},
   "outputs": [
    {
     "data": {
      "text/plain": [
       "0"
      ]
     },
     "execution_count": 4,
     "metadata": {},
     "output_type": "execute_result"
    }
   ],
   "source": [
    "let b\n",
    "b = 0"
   ]
  },
  {
   "cell_type": "markdown",
   "metadata": {},
   "source": [
    "## Data Types\n",
    "A value in JavaScript is always of certain type. There are two types of data types in JavaScript.\n",
    "1. Primitive data type\n",
    "2. Non-primitive data type\n",
    "\n",
    "#### Primitive data type\n",
    "1. String: represents sequence of characters e.g. 'saurav'\n",
    "2. Number: represents numeric values e.g. 10\n",
    "3. Boolean: represents boolean value either true or false\n",
    "4. Undefined: represent undefined value\n",
    "5. Null: represents null i.e. no value at all\n",
    "\n",
    "#### Non-primitive data type\n",
    "1. Object: represents instance through which we can access members\n",
    "2. Array: represent group of similar values\n",
    "3. RegExp: represents regular expression\n"
   ]
  },
  {
   "cell_type": "markdown",
   "metadata": {},
   "source": [
    "## JavaScript Operators \n",
    "JavaScript operators are symbols that are used to perform operations on operand. There are 6 types of operators in JavaScript. They are:\n",
    "\n",
    "1. Arithemetic Operators\n",
    "2. Comparison Operators\n",
    "3. Bitwise Operators\n",
    "4. Logical Operators\n",
    "5. Assignment Operators\n",
    "6. Special Operators\n",
    "\n",
    "#### Arithemetic Operators\n",
    "Arithmetic operators are used to perform arithmetic operations on the operands.\n",
    "1. [+] -----> addition                  //ignore[ ]\n",
    "2. [-] -----> subtraction               //ignore[ ]\n",
    "3. [*] -----> multiplication            //ignore[ ]\n",
    "4. / -----> division\n",
    "5. % -----> modulus(remainder)\n",
    "6. ++ -----> increment\n",
    "7. -- -----> decrement\n",
    "\n",
    "#### Comparison Operators\n",
    "The JavaScript comparison operator compares the two operands.\n",
    "1. == -----> is equal to\n",
    "2. === -----> identical (equal and of same type)\n",
    "3. != -----> not equal to\n",
    "4. !== -----> not identical\n",
    "5. [>] -----> greater than   //ignore[ ]\n",
    "6. [>=] -----> greater than or equal to  //ignore[ ]\n",
    "7. < -----> less than\n",
    "8. <= -----> less than or equal to\n",
    "\n",
    "#### Bitwise Operators\n",
    "The bitwise operators perform bitwise operations on operands.\n",
    "1. & -----> Bitwise AND\n",
    "2. | -----> Bitwise OR\n",
    "3. ^ -----> Bitwise XOR\n",
    "4. ~ -----> Bitwise NOT\n",
    "5. << -----> Bitwise Left Shift\n",
    "6. [>>] -----> Bitwise Right Shift  //ignore[ ]\n",
    "7. [>>>] -----> Bitwise Right Shift with Zero  //ignore[ ]\n",
    "\n",
    "#### Logical Operators\n",
    "The following operators are known as JavaScript logica operators.\n",
    "1. && -----> Logical AND\n",
    "2. || -----> Logical OR\n",
    "3. ! -----> Logical NOT\n",
    "\n",
    "#### Assignment Operators\n",
    "The follwoing operators are known as JavaScript assignment operators.\n",
    "1. = -----> Assign\n",
    "2. += -----> Add and assign\n",
    "3. -= -----> Subtract and assign\n",
    "4. *= -----> Multiply and assign\n",
    "5. /= -----> Divide and assign\n",
    "6. %= -----> Modulus and assign\n",
    "\n",
    "#### Special Operators\n",
    "The following operators are known as JavaScript special operators.\n",
    "1. (?:) -----> Conditional Operator returns value based on the   condition. It is like if-else.\n",
    "\n",
    "2. , -----> Comma Operator allows multiple expressions to be evaluated as single statement.\n",
    "\n",
    "3. delete -----> Delete Operator deletes a property from the object.\n",
    "\n",
    "4. in -----> In Operator checks if object has the given property\n",
    "\n",
    "5. instanceof -----> checks if the object is an instance of given type\n",
    "\n",
    "6. new ----->\tcreates an instance (object)\n",
    "\n",
    "7. typeof -----> checks the type of object.\n",
    "\n",
    "8. void ----->it discards the expression's return value.\n",
    "\n",
    "9. yield -----> checks what is returned in a generator by the generator's iterator."
   ]
  },
  {
   "cell_type": "markdown",
   "metadata": {},
   "source": [
    "## Control Flow\n",
    "Control Flow is a fundamental aspect of any programming language which allows us to execute code if a certain situation arises."
   ]
  },
  {
   "cell_type": "markdown",
   "metadata": {},
   "source": [
    "#### If Statement\n",
    "    syntax:\n",
    "        if(condition){\n",
    "            // Execute some code\n",
    "        }"
   ]
  },
  {
   "cell_type": "code",
   "execution_count": 12,
   "metadata": {},
   "outputs": [
    {
     "name": "stdout",
     "output_type": "stream",
     "text": [
      "value of i is greater than 10\n"
     ]
    }
   ],
   "source": [
    "var i=20;  \n",
    "if(i>10){  \n",
    "console.log(\"value of i is greater than 10\");  \n",
    "}  "
   ]
  },
  {
   "cell_type": "markdown",
   "metadata": {},
   "source": [
    "#### If else Statement\n",
    "    syntax:\n",
    "        if(condition){\n",
    "            // Execute some code\n",
    "        }else{\n",
    "            // Execute some other code\n",
    "        }"
   ]
  },
  {
   "cell_type": "code",
   "execution_count": 13,
   "metadata": {},
   "outputs": [
    {
     "name": "stdout",
     "output_type": "stream",
     "text": [
      "ii is even number\n"
     ]
    }
   ],
   "source": [
    "var ii=20;  \n",
    "if(ii%2==0){  \n",
    "console.log(\"ii is even number\");  \n",
    "}  \n",
    "else{  \n",
    "console.log(\"ii is odd number\");  \n",
    "}  "
   ]
  },
  {
   "cell_type": "markdown",
   "metadata": {},
   "source": [
    "#### If,  else if, else Statement\n",
    "    syntax:\n",
    "        if(condition){\n",
    "            // Execute some code\n",
    "        }else if{\n",
    "            // Execute some other code\n",
    "        }else{\n",
    "            // Execute some backup code\n",
    "        }"
   ]
  },
  {
   "cell_type": "code",
   "execution_count": 15,
   "metadata": {},
   "outputs": [
    {
     "name": "stdout",
     "output_type": "stream",
     "text": [
      "c is equal to 20\n"
     ]
    }
   ],
   "source": [
    "var c=20;  \n",
    "if(c==10){  \n",
    "console.log(\"c is equal to 10\");  \n",
    "}  \n",
    "else if(c==15){  \n",
    "console.log(\"c is equal to 15\");  \n",
    "}  \n",
    "else if(c==20){  \n",
    "console.log(\"c is equal to 20\");  \n",
    "}  \n",
    "else{  \n",
    "console.log(\"c is not equal to 10, 15 or 20\");  \n",
    "}  \n"
   ]
  },
  {
   "cell_type": "markdown",
   "metadata": {},
   "source": [
    "## Switch\n",
    "The JavaScript switch statement is used to execute one code from multiple expression."
   ]
  },
  {
   "cell_type": "markdown",
   "metadata": {},
   "source": [
    "    syntax:\n",
    "        switch(expression){  \n",
    "        case value1:  \n",
    "         //code to be executed;  \n",
    "         break;  \n",
    "        case value2:  \n",
    "         //code to be executed;  \n",
    "         break;  \n",
    "        ......  \n",
    "\n",
    "        default:   \n",
    "         //code to be executed if above values are not matched;  \n",
    "        }  \n"
   ]
  },
  {
   "cell_type": "code",
   "execution_count": 42,
   "metadata": {},
   "outputs": [
    {
     "name": "stdout",
     "output_type": "stream",
     "text": [
      "case 1 executed\n"
     ]
    }
   ],
   "source": [
    "var z = 3;\n",
    "\n",
    "switch (z/3) {\n",
    "    case 1:\n",
    "        console.log(\"case 1 executed\");\n",
    "        break;\n",
    "    case 2:\n",
    "        console.log(\"case 2 executed\");\n",
    "        break;\n",
    "    case 3:\n",
    "        console.log(\"case 3 executed\");\n",
    "        break;\n",
    "    case 4:\n",
    "        console.log(\"case 4 executed\");\n",
    "        break;\n",
    "    default:\n",
    "        console.log(\"default case executed\");\n",
    "}"
   ]
  },
  {
   "cell_type": "markdown",
   "metadata": {},
   "source": [
    "## While Loop\n",
    "    syntax:\n",
    "        while(condition){\n",
    "            //Execute some code wile this condition is true\n",
    "        }\n",
    "    "
   ]
  },
  {
   "cell_type": "code",
   "execution_count": 16,
   "metadata": {},
   "outputs": [
    {
     "name": "stdout",
     "output_type": "stream",
     "text": [
      "x is currently:0\n",
      "x is still less than 5, adding 1 to x\n",
      "x is currently:1\n",
      "x is still less than 5, adding 1 to x\n",
      "x is currently:2\n",
      "x is still less than 5, adding 1 to x\n",
      "x is currently:3\n",
      "x is still less than 5, adding 1 to x\n",
      "x is currently:4\n",
      "x is still less than 5, adding 1 to x\n"
     ]
    },
    {
     "data": {
      "text/plain": [
       "5"
      ]
     },
     "execution_count": 16,
     "metadata": {},
     "output_type": "execute_result"
    }
   ],
   "source": [
    "var x = 0;\n",
    "\n",
    "while(x<5){\n",
    "    console.log('x is currently:'+x);\n",
    "    console.log('x is still less than 5, adding 1 to x');\n",
    "    \n",
    "    x = x+1;\n",
    "}"
   ]
  },
  {
   "cell_type": "markdown",
   "metadata": {},
   "source": [
    "## For Loop\n",
    "    syntax:\n",
    "        for(statement1; statement2; statement3){\n",
    "            // Execute some code\n",
    "        }"
   ]
  },
  {
   "cell_type": "code",
   "execution_count": 20,
   "metadata": {},
   "outputs": [
    {
     "name": "stdout",
     "output_type": "stream",
     "text": [
      "Number is 0\n",
      "Number is 1\n",
      "Number is 2\n",
      "Number is 3\n",
      "Number is 4\n"
     ]
    }
   ],
   "source": [
    "for (var num = 0; num < 5; num++){\n",
    "    console.log('Number is ' + num)\n",
    "}"
   ]
  },
  {
   "cell_type": "markdown",
   "metadata": {},
   "source": [
    "## Functions\n",
    "A function is a block of code. In any moderately complex JavaScript program, everything happens inside functions.\n",
    "    "
   ]
  },
  {
   "cell_type": "markdown",
   "metadata": {},
   "source": [
    "    syntax:\n",
    "        function name(parameter1, parameter2){\n",
    "            // Code to be executed \n",
    "        }"
   ]
  },
  {
   "cell_type": "code",
   "execution_count": 21,
   "metadata": {},
   "outputs": [
    {
     "name": "stdout",
     "output_type": "stream",
     "text": [
      "5\n"
     ]
    }
   ],
   "source": [
    "function addNum(num1,num2){\n",
    "    console.log(num1+num2)\n",
    "}\n",
    "\n",
    "addNum(2,3)"
   ]
  },
  {
   "cell_type": "code",
   "execution_count": 22,
   "metadata": {},
   "outputs": [
    {
     "name": "stdout",
     "output_type": "stream",
     "text": [
      "hi!\n"
     ]
    }
   ],
   "source": [
    "function getData() {\n",
    "  // do something\n",
    "  return 'hi!'\n",
    "}\n",
    "\n",
    "let result = getData()\n",
    "\n",
    "console.log(result)"
   ]
  },
  {
   "cell_type": "markdown",
   "metadata": {},
   "source": [
    "## Arrays\n",
    "An array is a collection of elements. Arrays will allow us to store various basic data types in a sequence, so we can then later access them as needed."
   ]
  },
  {
   "cell_type": "markdown",
   "metadata": {},
   "source": [
    "    syntax:\n",
    "        var arrayname = new Array(); \n",
    "                  OR\n",
    "        var arrayname = [item1, item2,...];"
   ]
  },
  {
   "cell_type": "code",
   "execution_count": 23,
   "metadata": {},
   "outputs": [
    {
     "name": "stdout",
     "output_type": "stream",
     "text": [
      "[ '1BHK', '2BHK', '3BHK' ]\n"
     ]
    }
   ],
   "source": [
    "var house = new Array('1BHK', '2BHK', '3BHK')\n",
    "console.log(house)"
   ]
  },
  {
   "cell_type": "code",
   "execution_count": 24,
   "metadata": {},
   "outputs": [
    {
     "name": "stdout",
     "output_type": "stream",
     "text": [
      "2\n"
     ]
    }
   ],
   "source": [
    "var fruits = ['Mango','Litchi']\n",
    "console.log(fruits.length)"
   ]
  },
  {
   "cell_type": "code",
   "execution_count": 30,
   "metadata": {},
   "outputs": [
    {
     "name": "stdout",
     "output_type": "stream",
     "text": [
      "a.create an array\n",
      "[ 'saurav', 'simrik', 'sisir' ]\n",
      "\n",
      "b.access an array item using the index position\n",
      "saurav\n",
      "\n",
      "c.add an item to the end of an array\n",
      "4\n",
      "\n",
      "d.remove an item from the end of an array\n",
      "allie\n",
      "\n",
      "e.remove an item from the begining of an array\n",
      "saurav\n",
      "\n",
      "f.add an item to the begining of an array\n",
      "3\n",
      "\n",
      "g.find the index of an item in the array\n",
      "1\n",
      "\n",
      "h.remove an item by index position\n",
      "[ 'simrik' ]\n",
      "\n",
      "i.copy an array\n",
      "[ 'aastha', 'sisir' ]\n"
     ]
    }
   ],
   "source": [
    "// create an array\n",
    "var names = new Array('saurav', 'simrik', 'sisir')\n",
    "console.log('a.create an array')\n",
    "console.log(names)\n",
    "\n",
    "// access an array item using the index position\n",
    "var first = names[0]\n",
    "console.log('\\nb.access an array item using the index position')\n",
    "console.log(first)\n",
    "\n",
    "// add an item to the end of an array\n",
    "var newName = names.push('allie')\n",
    "console.log('\\nc.add an item to the end of an array')\n",
    "console.log(newName)\n",
    "\n",
    "// remove an item from the end of an array\n",
    "var last = names.pop()\n",
    "console.log('\\nd.remove an item from the end of an array')\n",
    "console.log(last)\n",
    "\n",
    "// remove an item from the begining of an array\n",
    "var first = names.shift()\n",
    "console.log('\\ne.remove an item from the begining of an array')\n",
    "console.log(first)\n",
    "\n",
    "// add an item to the begining of an array\n",
    "var addNew = names.unshift('aastha')\n",
    "console.log('\\nf.add an item to the begining of an array')\n",
    "console.log(addNew)\n",
    "\n",
    "// find the index of an item in the array\n",
    "var pos = names.indexOf('simrik')\n",
    "console.log('\\ng.find the index of an item in the array')\n",
    "console.log(pos)\n",
    "\n",
    "// remove an item by index position\n",
    "var removeItem = names.splice(pos, 1)\n",
    "console.log('\\nh.remove an item by index position')\n",
    "console.log(removeItem)\n",
    "\n",
    "// copy an array\n",
    "var shallowCopy = names.slice()\n",
    "console.log('\\ni.copy an array')\n",
    "console.log(shallowCopy)\n"
   ]
  },
  {
   "cell_type": "markdown",
   "metadata": {},
   "source": [
    "## Objects\n",
    "JavaScript objects are hash-tables, they store information in a key-value pair. In other languages this is sometimes called a dictionary.\n",
    "JavaScript object is in the form: {key1: 'value1', key2: 'value2',...}"
   ]
  },
  {
   "cell_type": "code",
   "execution_count": 31,
   "metadata": {},
   "outputs": [
    {
     "name": "stdout",
     "output_type": "stream",
     "text": [
      "{ name: 'Saurav', age: 28, address: 'Gaindakot' }\n"
     ]
    }
   ],
   "source": [
    "var personInfo = {name:'Saurav', age:28, address:'Gaindakot'}\n",
    "console.log(personInfo)"
   ]
  },
  {
   "cell_type": "code",
   "execution_count": 33,
   "metadata": {},
   "outputs": [
    {
     "data": {
      "text/plain": [
       "'Saurav'"
      ]
     },
     "execution_count": 33,
     "metadata": {},
     "output_type": "execute_result"
    }
   ],
   "source": [
    "//call value by their key\n",
    "personInfo['name']"
   ]
  },
  {
   "cell_type": "code",
   "execution_count": 35,
   "metadata": {},
   "outputs": [
    {
     "name": "stdout",
     "output_type": "stream",
     "text": [
      "{ name: 'Saurav', age: 28, address: 'Australia' }\n"
     ]
    }
   ],
   "source": [
    "// changing the value that corresponds to a key\n",
    "personInfo['address'] = 'Australia'\n",
    "console.log(personInfo)"
   ]
  },
  {
   "cell_type": "code",
   "execution_count": 36,
   "metadata": {},
   "outputs": [
    {
     "name": "stdout",
     "output_type": "stream",
     "text": [
      "{ name: 'Saurav', age: 28, address: 'Australia' }\n"
     ]
    }
   ],
   "source": [
    "//show entire objects\n",
    "console.dir(personInfo)"
   ]
  },
  {
   "cell_type": "code",
   "execution_count": 37,
   "metadata": {},
   "outputs": [
    {
     "name": "stdout",
     "output_type": "stream",
     "text": [
      "name\n",
      "Saurav\n",
      "\n",
      "\n",
      "age\n",
      "28\n",
      "\n",
      "\n",
      "address\n",
      "Australia\n",
      "\n",
      "\n"
     ]
    }
   ],
   "source": [
    "// iterate through objects\n",
    "for(var key in personInfo){\n",
    "    console.log(key)\n",
    "    console.log(personInfo[key])\n",
    "    console.log('\\n')\n",
    "}\n"
   ]
  },
  {
   "cell_type": "markdown",
   "metadata": {},
   "source": [
    "## Object Methods\n",
    "Object methods are essentially functions that are inside of an object. "
   ]
  },
  {
   "cell_type": "code",
   "execution_count": 39,
   "metadata": {},
   "outputs": [
    {
     "name": "stdout",
     "output_type": "stream",
     "text": [
      "We've got a person here!\n"
     ]
    }
   ],
   "source": [
    "var personDetails = {\n",
    "    name:'Saurav', \n",
    "    age:28, \n",
    "    address:'Gaindakot',\n",
    "    personAlert: function(){\n",
    "        console.log(\"We've got a person here!\")\n",
    "    }\n",
    "};\n",
    "\n",
    "personDetails.personAlert()\n",
    "\n"
   ]
  },
  {
   "cell_type": "markdown",
   "metadata": {},
   "source": [
    "#### this Keyword\n",
    "In an object method, this refers to the 'owner' of the method and refers to global object as well."
   ]
  },
  {
   "cell_type": "code",
   "execution_count": 41,
   "metadata": {},
   "outputs": [
    {
     "name": "stdout",
     "output_type": "stream",
     "text": [
      "{ name: 'saurav', greet: [Function: greet] }\n",
      "Hello saurav\n"
     ]
    }
   ],
   "source": [
    "var myObj = {\n",
    "    name:'saurav',\n",
    "    greet: function(){\n",
    "        console.log('Hello ' + this.name)\n",
    "    }\n",
    "}\n",
    "console.log(myObj)\n",
    "myObj.greet()"
   ]
  },
  {
   "cell_type": "markdown",
   "metadata": {},
   "source": [
    "## String\n",
    "The JavaScript string is an object that represents a sequence of characters."
   ]
  },
  {
   "cell_type": "markdown",
   "metadata": {},
   "source": [
    "    syntax:\n",
    "        var stringName = 'string value';\n",
    "                OR\n",
    "        var stringName = new String('string value')"
   ]
  },
  {
   "cell_type": "code",
   "execution_count": 45,
   "metadata": {},
   "outputs": [
    {
     "name": "stdout",
     "output_type": "stream",
     "text": [
      "saurav\n"
     ]
    }
   ],
   "source": [
    "//create a string\n",
    "var name = 'saurav';\n",
    "console.log(name)"
   ]
  },
  {
   "cell_type": "markdown",
   "metadata": {},
   "source": [
    "## Classes\n",
    "Classes are a way to define a common pattern for multiple objects."
   ]
  },
  {
   "cell_type": "markdown",
   "metadata": {},
   "source": [
    "#### Definition: class keyword\n",
    "We use the keyword class to define a class in JavaScript."
   ]
  },
  {
   "cell_type": "markdown",
   "metadata": {},
   "source": [
    "    syntax:\n",
    "        class ClassName {\n",
    "            // The body of class\n",
    "        }"
   ]
  },
  {
   "cell_type": "markdown",
   "metadata": {},
   "source": [
    "#### Initialization: constructor( )\n",
    "constructor(param1, param2,...) is a special method in the body of a class that initializes the instance. The constructor method is called each time the class object is initialied."
   ]
  },
  {
   "cell_type": "markdown",
   "metadata": {},
   "source": [
    "    syntax:\n",
    "        class ClassName {\n",
    "            constructor(param1) {\n",
    "                this.param1 = param1;\n",
    "            }\n",
    "        }"
   ]
  },
  {
   "cell_type": "code",
   "execution_count": 76,
   "metadata": {},
   "outputs": [],
   "source": [
    "class B2{\n",
    "    constructor(name){\n",
    "        this.name = name;\n",
    "    }\n",
    "}\n",
    "var b22 = new B2('saurav');\n",
    "b.name;"
   ]
  },
  {
   "cell_type": "markdown",
   "metadata": {},
   "source": [
    "#### Fields\n",
    "Class fields are variables that hold information. It has 2 entities.\n",
    "1. Field on the class instance\n",
    "2. Field on the class itself (static)\n",
    "\n",
    "The fields also have 2 level of accessibility:\n",
    "1. Public: the field is accessible anywhere\n",
    "2. Private: the field is accessible only within the body of the class"
   ]
  },
  {
   "cell_type": "markdown",
   "metadata": {},
   "source": [
    "###### . Public instance fields\n"
   ]
  },
  {
   "cell_type": "code",
   "execution_count": 71,
   "metadata": {},
   "outputs": [
    {
     "data": {
      "text/plain": [
       "'Unknown'"
      ]
     },
     "execution_count": 71,
     "metadata": {},
     "output_type": "execute_result"
    }
   ],
   "source": [
    "class C {\n",
    "    name = 'Unknown'; // public field \n",
    "    constructor(){\n",
    "        // No initialization\n",
    "    }\n",
    "}\n",
    "\n",
    "var c = new C();\n",
    "c.name;"
   ]
  },
  {
   "cell_type": "markdown",
   "metadata": {},
   "source": [
    "##### . Private instance fields"
   ]
  },
  {
   "cell_type": "code",
   "execution_count": 82,
   "metadata": {},
   "outputs": [
    {
     "data": {
      "text/plain": [
       "'Saurav'"
      ]
     },
     "execution_count": 82,
     "metadata": {},
     "output_type": "execute_result"
    }
   ],
   "source": [
    "class D3{\n",
    "    // private field\n",
    "    #name;  \n",
    "    constructor(name){\n",
    "        this.#name = name;\n",
    "    }\n",
    "    \n",
    "    getName(){    //getName() can access the private field\n",
    "        return this.#name; \n",
    "    }\n",
    "}\n",
    "\n",
    "var d3 = new D3('Saurav');\n",
    "d3.getName();\n",
    "\n",
    "//user.#name; \n",
    "//cannot access the private field outside of the body class"
   ]
  },
  {
   "cell_type": "markdown",
   "metadata": {},
   "source": [
    "##### . Public static fields"
   ]
  },
  {
   "cell_type": "code",
   "execution_count": 87,
   "metadata": {},
   "outputs": [
    {
     "data": {
      "text/plain": [
       "false"
      ]
     },
     "execution_count": 87,
     "metadata": {},
     "output_type": "execute_result"
    }
   ],
   "source": [
    "class E3 {\n",
    "    static USER = 'user'; // static variable inside E class\n",
    "    \n",
    "    name;\n",
    "    \n",
    "    constructor(name){\n",
    "        this.name = name;\n",
    "    }\n",
    "}\n",
    "\n",
    "var user2 = new E('General User', E.USER);\n",
    "user2.name === E.USER // to access the static field we have to use the class followed by the field name"
   ]
  },
  {
   "cell_type": "markdown",
   "metadata": {},
   "source": [
    "##### . Private static fields"
   ]
  },
  {
   "cell_type": "code",
   "execution_count": 103,
   "metadata": {},
   "outputs": [],
   "source": [
    "class ClassWithPrivateStaticField2 {\n",
    "  static #PRIVATE_STATIC_FIELD\n",
    "\n",
    "  static publicStaticMethod() {\n",
    "    ClassWithPrivateStaticField2.#PRIVATE_STATIC_FIELD = 42\n",
    "    return ClassWithPrivateStaticField2.#PRIVATE_STATIC_FIELD\n",
    "  }\n",
    "}\n",
    "\n",
    "//assert(ClassWithPrivateStaticField1.publicStaticMethod() === 42)\n",
    "// cannot access private static field outside class"
   ]
  },
  {
   "cell_type": "markdown",
   "metadata": {},
   "source": [
    "\n"
   ]
  }
 ],
 "metadata": {
  "kernelspec": {
   "display_name": "Javascript (Node.js)",
   "language": "javascript",
   "name": "javascript"
  },
  "language_info": {
   "file_extension": ".js",
   "mimetype": "application/javascript",
   "name": "javascript",
   "version": "14.5.0"
  }
 },
 "nbformat": 4,
 "nbformat_minor": 4
}
